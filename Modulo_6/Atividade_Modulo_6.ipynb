{
 "cells": [
  {
   "cell_type": "markdown",
   "id": "5fb6e267",
   "metadata": {},
   "source": [
    "# Análise do DHO da empresa Kaze Tech\n",
    "Vamos levantar alguns pontos de análise para setor de DHO através dos dados coletados pelo RH da empresa."
   ]
  },
  {
   "cell_type": "code",
   "execution_count": 1,
   "id": "a1391498",
   "metadata": {},
   "outputs": [],
   "source": [
    "import sqlite3\n",
    "banco_kazetech = sqlite3.connect('kazetech.db')"
   ]
  },
  {
   "cell_type": "code",
   "execution_count": 2,
   "id": "b39a693f",
   "metadata": {
    "scrolled": true
   },
   "outputs": [],
   "source": [
    "cursor = banco_kazetech.cursor()"
   ]
  },
  {
   "cell_type": "code",
   "execution_count": 9,
   "id": "e843ad06",
   "metadata": {
    "scrolled": false
   },
   "outputs": [
    {
     "data": {
      "text/plain": [
       "<sqlite3.Cursor at 0x1fcb1c902d0>"
      ]
     },
     "execution_count": 9,
     "metadata": {},
     "output_type": "execute_result"
    }
   ],
   "source": [
    "cursor.execute(\"\"\"\n",
    "CREATE TABLE funcionarios (\n",
    "    codigo integer PRIMARY KEY, \n",
    "    primeiroNome text, \n",
    "    segundoNome text, \n",
    "    ultimoNome text, \n",
    "    dataNasci text, \n",
    "    CPF integer, \n",
    "    cidade text, \n",
    "    fone integer, \n",
    "    codigoDepartamento integer, \n",
    "    funcao text, \n",
    "    salario integer)\"\"\")"
   ]
  },
  {
   "cell_type": "code",
   "execution_count": 11,
   "id": "df97afc8",
   "metadata": {},
   "outputs": [],
   "source": [
    "lista_funcionarios = [('1', 'Kaze', 'Jotaro', 'Okami', '1987-06-02', '01489085009', 'Florianopolis', '48984514175', '1', 'CEO', '22000'),\n",
    "                     ('2', 'Kikuye', 'Kambara', 'Silva', '1988-04-20', '01744412322', 'Florianopolis', '48984442217', '1','Gerente Geral', '22000'),\n",
    "                     ('3', 'Ken', 'Ryu', 'Masters', '1980-10-13', '00485245697', 'Sao Paulo', '11999217469', '4', 'Gerente Comercial', '11000'),\n",
    "                     ('4', 'Maria', 'Clara', 'Padilha', '1991-06-12', '01856985212', 'Sao Paulo', '11984714171', '2', 'Gestora de RH', '3000'),\n",
    "                     ('5', 'Conan', 'Oliveira', 'Rocha', '1998-08-08', '01785213758', 'Curitiba', '41999117854', '5', 'Gerente Operacional', '16000'),\n",
    "                     ('6', 'Joana', 'Dark', 'Santos', '1991-04-26', '00912381459', 'Florianopolis', '48999212122', '3', 'Analista Contabil', '4000'),\n",
    "                     ('7', 'Sakura', 'Tanaka', 'Ryuji', '2003-01-02', '00321574622', 'Sao Paulo', '11984117414', '4', 'Estagiaria Comercial', '900'),\n",
    "                     ('8', 'Hanna', 'Marques', 'Padua', '1947-06-10', '02020023555', 'Porto Alegre', '51999221836', '5', 'Desenvolvedora Senior', '13000'),\n",
    "                     ('9', 'Carla', 'Batista', 'Ruas', '1994-10-31', '01685084771', 'Florianopolis', '48984335680', '5', 'Desenvolvedora Jr', '4000'),\n",
    "                     ('10', 'Rita', 'Martins', 'Bastos', '1980-04-07', '01096321900', 'Rio de Janeiro', '21999232318', '6', 'Auxiliar Serviços Gerais', '800'),\n",
    "                     ('11', 'Willian', 'Laucian', 'Paladino', '1977-12-24', '00332145698', 'Rio de Janeiro', '21984517432', '5', 'Desenvolvedor Senior', '12000'),\n",
    "                     ('12', 'Valkiria', 'Guerreiro', 'Luz', '2000-09-05', '01444988537', 'Curitiba', '41984663322', '5', 'Estagiaria Desenvolvedora', '950'),\n",
    "                     ('13', 'Ariane', 'Cabral', 'Lima', '1993-06-16', '01325814769', 'Arraial do Cabo', '22999669594', '4', 'Vendedora', '2500'),\n",
    "                     ('14', 'Pablo', 'Garcia', 'Guerra', '1969-11-10', '00845619234', 'Florianopolis', '48984212121', '4', 'Vendedor', '2500'),\n",
    "                     ('15', 'Miriam', 'Prado', 'Leite', '1997-02-05', '01552381321', 'Sao Paulo', '11999584769', '3', 'Estagiaria Financeira', '1000'),\n",
    "                     ('16', 'John', 'Avon', 'Caningan', '1989-06-03', '01636921544', 'Sao Paulo', '11984010203', '5', 'Desenvolvedor Pleno', '8000'),\n",
    "                     ('17', 'Kalindra', 'Vargas', 'Midori', '1987-13-11', '01487584149', 'Sao Paulo', '11999878412', '4', 'Assistente de Marketing', '1700',)]\n"
   ]
  },
  {
   "cell_type": "code",
   "execution_count": 12,
   "id": "8ac090ef",
   "metadata": {
    "scrolled": false
   },
   "outputs": [],
   "source": [
    "cursor.executemany(\"\"\"INSERT INTO funcionarios VALUES (?,?,?,?,?,?,?,?,?,?,?)\"\"\", lista_funcionarios)\n",
    "banco_kazetech.commit()"
   ]
  },
  {
   "cell_type": "code",
   "execution_count": 13,
   "id": "b2edab13",
   "metadata": {},
   "outputs": [
    {
     "name": "stdout",
     "output_type": "stream",
     "text": [
      "[(1, 'Kaze', 'Jotaro', 'Okami', '1987-06-02', 1489085009, 'Florianopolis', 48984514175, 1, 'CEO', 22000), (2, 'Kikuye', 'Kambara', 'Silva', '1988-04-20', 1744412322, 'Florianopolis', 48984442217, 1, 'Gerente Geral', 22000), (3, 'Ken', 'Ryu', 'Masters', '1980-10-13', 485245697, 'Sao Paulo', 11999217469, 4, 'Gerente Comercial', 11000), (4, 'Maria', 'Clara', 'Padilha', '1991-06-12', 1856985212, 'Sao Paulo', 11984714171, 2, 'Gestora de RH', 3000), (5, 'Conan', 'Oliveira', 'Rocha', '1998-08-08', 1785213758, 'Curitiba', 41999117854, 5, 'Gerente Operacional', 16000), (6, 'Joana', 'Dark', 'Santos', '1991-04-26', 912381459, 'Florianopolis', 48999212122, 3, 'Analista Contabil', 4000), (7, 'Sakura', 'Tanaka', 'Ryuji', '2003-01-02', 321574622, 'Sao Paulo', 11984117414, 4, 'Estagiaria Comercial', 900), (8, 'Hanna', 'Marques', 'Padua', '1947-06-10', 2020023555, 'Porto Alegre', 51999221836, 5, 'Desenvolvedora Senior', 13000), (9, 'Carla', 'Batista', 'Ruas', '1994-10-31', 1685084771, 'Florianopolis', 48984335680, 5, 'Desenvolvedora Jr', 4000), (10, 'Rita', 'Martins', 'Bastos', '1980-04-07', 1096321900, 'Rio de Janeiro', 21999232318, 6, 'Auxiliar Serviços Gerais', 800), (11, 'Willian', 'Laucian', 'Paladino', '1977-12-24', 332145698, 'Rio de Janeiro', 21984517432, 5, 'Desenvolvedor Senior', 12000), (12, 'Valkiria', 'Guerreiro', 'Luz', '2000-09-05', 1444988537, 'Curitiba', 41984663322, 5, 'Estagiaria Desenvolvedora', 950), (13, 'Ariane', 'Cabral', 'Lima', '1993-06-16', 1325814769, 'Arraial do Cabo', 22999669594, 4, 'Vendedora', 2500), (14, 'Pablo', 'Garcia', 'Guerra', '1969-11-10', 845619234, 'Florianopolis', 48984212121, 4, 'Vendedor', 2500), (15, 'Miriam', 'Prado', 'Leite', '1997-02-05', 1552381321, 'Sao Paulo', 11999584769, 3, 'Estagiaria Financeira', 1000), (16, 'John', 'Avon', 'Caningan', '1989-06-03', 1636921544, 'Sao Paulo', 11984010203, 5, 'Desenvolvedor Pleno', 8000), (17, 'Kalindra', 'Vargas', 'Midori', '1987-13-11', 1487584149, 'Sao Paulo', 11999878412, 4, 'Assistente de Marketing', 1700)]\n"
     ]
    }
   ],
   "source": [
    "cursor.execute(\"SELECT * FROM funcionarios\")\n",
    "print(cursor.fetchall())"
   ]
  },
  {
   "cell_type": "code",
   "execution_count": 40,
   "id": "bda9007e",
   "metadata": {
    "scrolled": true
   },
   "outputs": [],
   "source": [
    "cursor.execute(\"CREATE TABLE departamentos (codigo integer PRIMARY KEY, nomeDep text, codigoFuncionarioGerente integer)\")\n",
    "lista_departamentos = [('1', 'Gerencia Geral', '1'),\n",
    "                      ('2', 'Recursos Humanos', '4'),\n",
    "                      ('3', 'Financeiro', '6'),\n",
    "                      ('4', 'Comercial', '3'),\n",
    "                      ('5', 'Produção', '5'),\n",
    "                      ('6', 'Governança', '10')]\n",
    "cursor.executemany(\"\"\"INSERT INTO departamentos VALUES (?,?,?)\"\"\", lista_departamentos)\n",
    "banco_kazetech.commit()"
   ]
  },
  {
   "cell_type": "code",
   "execution_count": 9,
   "id": "444581e6",
   "metadata": {},
   "outputs": [
    {
     "name": "stdout",
     "output_type": "stream",
     "text": [
      "[(1, 'Gerencia Geral', 1), (2, 'Recursos Humanos', 4), (3, 'Financeiro', 6), (4, 'Comercial', 3), (5, 'Produção', 5), (6, 'Governança', 10)]\n"
     ]
    }
   ],
   "source": [
    "cursor.execute(\"SELECT * FROM departamentos\")\n",
    "print(cursor.fetchall())"
   ]
  },
  {
   "cell_type": "markdown",
   "id": "c6481c95",
   "metadata": {},
   "source": [
    "### A) Lista de nome e sobrenome ordenado por sobrenome:\n"
   ]
  },
  {
   "cell_type": "code",
   "execution_count": 11,
   "id": "0cecde56",
   "metadata": {},
   "outputs": [
    {
     "name": "stdout",
     "output_type": "stream",
     "text": [
      "[('Rita', 'Bastos'), ('John', 'Caningan'), ('Pablo', 'Guerra'), ('Miriam', 'Leite'), ('Ariane', 'Lima'), ('Valkiria', 'Luz'), ('Ken', 'Masters'), ('Kalindra', 'Midori'), ('Kaze', 'Okami'), ('Maria', 'Padilha'), ('Hanna', 'Padua'), ('Willian', 'Paladino'), ('Conan', 'Rocha'), ('Carla', 'Ruas'), ('Sakura', 'Ryuji'), ('Joana', 'Santos'), ('Kikuye', 'Silva')]\n"
     ]
    }
   ],
   "source": [
    "cursor.execute(\"\"\"SELECT primeiroNome, ultimoNome \n",
    "FROM funcionarios \n",
    "ORDER BY ultimoNome\"\"\")\n",
    "print(cursor.fetchall())"
   ]
  },
  {
   "cell_type": "markdown",
   "id": "8dcba7a7",
   "metadata": {},
   "source": [
    "### B) Lista de todos os campos de funcionários ordenados por cidade:"
   ]
  },
  {
   "cell_type": "code",
   "execution_count": 12,
   "id": "ff65b37c",
   "metadata": {},
   "outputs": [
    {
     "name": "stdout",
     "output_type": "stream",
     "text": [
      "[(13, 'Ariane', 'Cabral', 'Lima', '16/06/1993', 1325814769, 'Arraial do Cabo', 22999669594, 4, 'Vendedora', 2500), (5, 'Conan', 'Oliveira', 'Rocha', '08/08/1998', 1785213758, 'Curitiba', 41999117854, 5, 'Gerente Operacional', 16000), (12, 'Valkiria', 'Guerreiro', 'Luz', '05/09/2000', 1444988537, 'Curitiba', 41984663322, 5, 'Estagiaria Desenvolvedora', 950), (1, 'Kaze', 'Jotaro', 'Okami', '02/06/1987', 1489085009, 'Florianopolis', 48984514175, 1, 'CEO', 22000), (2, 'Kikuye', 'Kambara', 'Silva', '20/04/1988', 1744412322, 'Florianopolis', 48984442217, 1, 'Gerente Geral', 22000), (6, 'Joana', 'Dark', 'Santos', '22/12/1991', 912381459, 'Florianopolis', 48999212122, 3, 'Analista Contabil', 4000), (9, 'Carla', 'Batista', 'Ruas', '31/10/1994', 1685084771, 'Florianopolis', 48984335680, 5, 'Desenvolvedora Jr', 4000), (14, 'Pablo', 'Garcia', 'Guerra', '10/11/1969', 845619234, 'Florianopolis', 48984212121, 4, 'Vendedor', 2500), (8, 'Hanna', 'Marques', 'Padua', '10/06/1947', 2020023555, 'Porto Alegre', 51999221836, 5, 'Desenvolvedora Senior', 13000), (10, 'Rita', 'Martins', 'Bastos', '07/04/1980', 1096321900, 'Rio de Janeiro', 21999232318, 6, 'Auxiliar Serviços Gerais', 800), (11, 'Willian', 'Laucian', 'Paladino', '24/12/1977', 332145698, 'Rio de Janeiro', 21984517432, 5, 'Desenvolvedor Senior', 12000), (3, 'Ken', 'Ryu', 'Masters', '13/10/1980', 485245697, 'Sao Paulo', 11999217469, 4, 'Gerente Comercial', 11000), (4, 'Maria', 'Clara', 'Padilha', '12/06/1991', 1856985212, 'Sao Paulo', 11984714171, 2, 'Gestora de RH', 3000), (7, 'Sakura', 'Tanaka', 'Ryuji', '02/01/2003', 321574622, 'Sao Paulo', 11984117414, 4, 'Estagiaria Comercial', 900), (15, 'Miriam', 'Prado', 'Leite', '05/02/1997', 1552381321, 'Sao Paulo', 11999584769, 3, 'Estagiaria Financeira', 1000), (16, 'John', 'Avon', 'Caningan', '03/06/1989', 1636921544, 'Sao Paulo', 11984010203, 5, 'Desenvolvedor Pleno', 8000), (17, 'Kalindra', 'Vargas', 'Midori', '13/11/1987', 1487584149, 'Sao Paulo', 11999878412, 4, 'Assistente de Marketing', 1700)]\n"
     ]
    }
   ],
   "source": [
    "cursor.execute(\"\"\"SELECT * \n",
    "FROM funcionarios \n",
    "ORDER BY cidade\"\"\")\n",
    "print(cursor.fetchall())"
   ]
  },
  {
   "cell_type": "markdown",
   "id": "4f63c621",
   "metadata": {},
   "source": [
    "### C) Lista dos funcionários com salario superior a 1000 reais, odrdenados por nome completo:"
   ]
  },
  {
   "cell_type": "code",
   "execution_count": 13,
   "id": "6f768709",
   "metadata": {},
   "outputs": [
    {
     "name": "stdout",
     "output_type": "stream",
     "text": [
      "[(13, 'Ariane', 'Cabral', 'Lima', '16/06/1993', 1325814769, 'Arraial do Cabo', 22999669594, 4, 'Vendedora', 2500), (9, 'Carla', 'Batista', 'Ruas', '31/10/1994', 1685084771, 'Florianopolis', 48984335680, 5, 'Desenvolvedora Jr', 4000), (5, 'Conan', 'Oliveira', 'Rocha', '08/08/1998', 1785213758, 'Curitiba', 41999117854, 5, 'Gerente Operacional', 16000), (8, 'Hanna', 'Marques', 'Padua', '10/06/1947', 2020023555, 'Porto Alegre', 51999221836, 5, 'Desenvolvedora Senior', 13000), (6, 'Joana', 'Dark', 'Santos', '22/12/1991', 912381459, 'Florianopolis', 48999212122, 3, 'Analista Contabil', 4000), (16, 'John', 'Avon', 'Caningan', '03/06/1989', 1636921544, 'Sao Paulo', 11984010203, 5, 'Desenvolvedor Pleno', 8000), (17, 'Kalindra', 'Vargas', 'Midori', '13/11/1987', 1487584149, 'Sao Paulo', 11999878412, 4, 'Assistente de Marketing', 1700), (1, 'Kaze', 'Jotaro', 'Okami', '02/06/1987', 1489085009, 'Florianopolis', 48984514175, 1, 'CEO', 22000), (3, 'Ken', 'Ryu', 'Masters', '13/10/1980', 485245697, 'Sao Paulo', 11999217469, 4, 'Gerente Comercial', 11000), (2, 'Kikuye', 'Kambara', 'Silva', '20/04/1988', 1744412322, 'Florianopolis', 48984442217, 1, 'Gerente Geral', 22000), (4, 'Maria', 'Clara', 'Padilha', '12/06/1991', 1856985212, 'Sao Paulo', 11984714171, 2, 'Gestora de RH', 3000), (14, 'Pablo', 'Garcia', 'Guerra', '10/11/1969', 845619234, 'Florianopolis', 48984212121, 4, 'Vendedor', 2500), (11, 'Willian', 'Laucian', 'Paladino', '24/12/1977', 332145698, 'Rio de Janeiro', 21984517432, 5, 'Desenvolvedor Senior', 12000)]\n"
     ]
    }
   ],
   "source": [
    "cursor.execute(\"\"\"SELECT * \n",
    "FROM funcionarios \n",
    "WHERE salario > 1000 \n",
    "ORDER BY primeiroNome, segundoNome, ultimoNome\"\"\")\n",
    "print(cursor.fetchall())"
   ]
  },
  {
   "cell_type": "markdown",
   "id": "efd42657",
   "metadata": {},
   "source": [
    "### D) Lista da data de nascimento e o primeiro nome dos funcionários ordenados do mais novo para o mais velho:"
   ]
  },
  {
   "cell_type": "code",
   "execution_count": 15,
   "id": "f335703e",
   "metadata": {},
   "outputs": [
    {
     "name": "stdout",
     "output_type": "stream",
     "text": [
      "[('2003-01-02', 'Sakura'), ('2000-09-05', 'Valkiria'), ('1998-08-08', 'Conan'), ('1997-02-05', 'Miriam'), ('1994-10-31', 'Carla'), ('1993-06-16', 'Ariane'), ('1991-06-12', 'Maria'), ('1991-04-26', 'Joana'), ('1989-06-03', 'John'), ('1988-04-20', 'Kikuye'), ('1987-13-11', 'Kalindra'), ('1987-06-02', 'Kaze'), ('1980-10-13', 'Ken'), ('1980-04-07', 'Rita'), ('1977-12-24', 'Willian'), ('1969-11-10', 'Pablo'), ('1947-06-10', 'Hanna')]\n"
     ]
    }
   ],
   "source": [
    "cursor.execute(\"\"\"SELECT dataNasci, primeiroNome \n",
    "FROM funcionarios \n",
    "ORDER BY dataNasci DESC, primeiroNome\"\"\")\n",
    "print(cursor.fetchall())"
   ]
  },
  {
   "cell_type": "markdown",
   "id": "b1d301a3",
   "metadata": {},
   "source": [
    "### E) Lista do valor total da folha de pagamento:"
   ]
  },
  {
   "cell_type": "code",
   "execution_count": 17,
   "id": "09c938eb",
   "metadata": {},
   "outputs": [
    {
     "name": "stdout",
     "output_type": "stream",
     "text": [
      "[(125350,)]\n"
     ]
    }
   ],
   "source": [
    "total_folha = \"\"\"SELECT SUM(salario) \n",
    "FROM funcionarios\"\"\"\n",
    "cursor.execute(total_folha)\n",
    "print(cursor.fetchall())"
   ]
  },
  {
   "cell_type": "markdown",
   "id": "7fd41bc0",
   "metadata": {},
   "source": [
    "### F) Lista do nome, nome do departamento e a função de todos os funcionários:"
   ]
  },
  {
   "cell_type": "code",
   "execution_count": 19,
   "id": "e4cbf035",
   "metadata": {},
   "outputs": [
    {
     "name": "stdout",
     "output_type": "stream",
     "text": [
      "[('Ariane', 'Comercial', 'Vendedora'), ('Carla', 'Produção', 'Desenvolvedora Jr'), ('Conan', 'Produção', 'Gerente Operacional'), ('Hanna', 'Produção', 'Desenvolvedora Senior'), ('Joana', 'Financeiro', 'Analista Contabil'), ('John', 'Produção', 'Desenvolvedor Pleno'), ('Kalindra', 'Comercial', 'Assistente de Marketing'), ('Kaze', 'Gerencia Geral', 'CEO'), ('Ken', 'Comercial', 'Gerente Comercial'), ('Kikuye', 'Gerencia Geral', 'Gerente Geral'), ('Maria', 'Recursos Humanos', 'Gestora de RH'), ('Miriam', 'Financeiro', 'Estagiaria Financeira'), ('Pablo', 'Comercial', 'Vendedor'), ('Rita', 'Governança', 'Auxiliar Serviços Gerais'), ('Sakura', 'Comercial', 'Estagiaria Comercial'), ('Valkiria', 'Produção', 'Estagiaria Desenvolvedora'), ('Willian', 'Produção', 'Desenvolvedor Senior')]\n"
     ]
    }
   ],
   "source": [
    "lista_nomes = \"\"\"SELECT funcionarios.primeiroNome, departamentos.nomeDep, funcionarios.funcao\n",
    "FROM funcionarios INNER JOIN departamentos ON funcionarios.codigoDepartamento = departamentos.codigo\n",
    "ORDER BY funcionarios.primeiroNome\"\"\"\n",
    "cursor.execute(lista_nomes)\n",
    "print(cursor.fetchall())"
   ]
  },
  {
   "cell_type": "markdown",
   "id": "c39d4d1f",
   "metadata": {},
   "source": [
    "### G) Lista da quantidade de funcionários desta empresa:"
   ]
  },
  {
   "cell_type": "code",
   "execution_count": 20,
   "id": "4a28dd17",
   "metadata": {},
   "outputs": [
    {
     "name": "stdout",
     "output_type": "stream",
     "text": [
      "[(17,)]\n"
     ]
    }
   ],
   "source": [
    "lista_n_funcionarios = \"\"\" SELECT COUNT(*) \n",
    "FROM funcionarios\"\"\"\n",
    "cursor.execute(lista_n_funcionarios)\n",
    "print(cursor.fetchall())"
   ]
  },
  {
   "cell_type": "markdown",
   "id": "1d8ca93d",
   "metadata": {},
   "source": [
    "### H) Lista do nome do departamento e do funcionário ordenado por departamento e funcionário:"
   ]
  },
  {
   "cell_type": "code",
   "execution_count": 22,
   "id": "03c9f015",
   "metadata": {},
   "outputs": [
    {
     "name": "stdout",
     "output_type": "stream",
     "text": [
      "[('Comercial', 'Ariane'), ('Comercial', 'Kalindra'), ('Comercial', 'Ken'), ('Comercial', 'Pablo'), ('Comercial', 'Sakura'), ('Financeiro', 'Joana'), ('Financeiro', 'Miriam'), ('Gerencia Geral', 'Kaze'), ('Gerencia Geral', 'Kikuye'), ('Governança', 'Rita'), ('Produção', 'Carla'), ('Produção', 'Conan'), ('Produção', 'Hanna'), ('Produção', 'John'), ('Produção', 'Valkiria'), ('Produção', 'Willian'), ('Recursos Humanos', 'Maria')]\n"
     ]
    }
   ],
   "source": [
    "lista_dep_func = \"\"\"SELECT departamentos.nomeDep, funcionarios.primeiroNome\n",
    "FROM departamentos INNER JOIN funcionarios ON departamentos.codigo = funcionarios.codigoDepartamento\n",
    "ORDER BY departamentos.nomeDep, funcionarios.primeiroNome\"\"\"\n",
    "cursor.execute(lista_dep_func)\n",
    "print(cursor.fetchall())"
   ]
  },
  {
   "cell_type": "markdown",
   "id": "2abc61c9",
   "metadata": {},
   "source": [
    "# Análises Extras:"
   ]
  },
  {
   "cell_type": "code",
   "execution_count": 18,
   "id": "22488eb3",
   "metadata": {},
   "outputs": [],
   "source": [
    "cursor.execute(\"\"\"\n",
    "CREATE TABLE projetos (\n",
    "    idProjeto integer PRIMARY KEY, \n",
    "    nomeProjeto text, \n",
    "    codigoDepResponsavel integer, \n",
    "    codigoFuncionarioResp integer, \n",
    "    verba integer)\"\"\")\n",
    "\n",
    "lista_projetos = [('1', 'Alpha', '1', '2', '64000'),\n",
    "                 ('2', 'Beta', '4', '3', '71000'),\n",
    "                 ('3', 'Gama', '5', '5', '153000'),\n",
    "                 ('4', 'Sigma', '5', '8', '82000'),\n",
    "                 ('5', 'Omega', '3', '6', '21000')]\n",
    "cursor.executemany(\"\"\"INSERT INTO projetos VALUES (?,?,?,?,?)\"\"\", lista_projetos)\n",
    "banco_kazetech.commit()"
   ]
  },
  {
   "cell_type": "markdown",
   "id": "0097c691",
   "metadata": {},
   "source": [
    "### Lista dos nomes dos responsaveis pelos projetos, ordenados decrescente pelo código do projeto:"
   ]
  },
  {
   "cell_type": "code",
   "execution_count": 23,
   "id": "351ee2cc",
   "metadata": {},
   "outputs": [
    {
     "name": "stdout",
     "output_type": "stream",
     "text": [
      "[(5, 'Joana'), (4, 'Hanna'), (3, 'Conan'), (2, 'Ken'), (1, 'Kikuye')]\n"
     ]
    }
   ],
   "source": [
    "lista_ordem_projeto = \"\"\"SELECT idProjeto, funcionarios.primeiroNome\n",
    "FROM funcionarios INNER JOIN projetos ON funcionarios.codigo = projetos.codigoFuncionarioResp\n",
    "ORDER BY idProjeto DESC\"\"\"\n",
    "cursor.execute(lista_ordem_projeto)\n",
    "print(cursor.fetchall())"
   ]
  },
  {
   "cell_type": "markdown",
   "id": "73d3f068",
   "metadata": {},
   "source": [
    "### Lista dos projetos com valor de verba superior a 70000 reais, ordenados por valor da verba:"
   ]
  },
  {
   "cell_type": "code",
   "execution_count": 19,
   "id": "f82c576a",
   "metadata": {},
   "outputs": [
    {
     "name": "stdout",
     "output_type": "stream",
     "text": [
      "[(2, 'Beta', 4, 3, 71000), (4, 'Sigma', 5, 8, 82000), (3, 'Gama', 5, 5, 153000)]\n"
     ]
    }
   ],
   "source": [
    "lista_verba = \"\"\"SELECT * FROM projetos \n",
    "WHERE verba > 70000\n",
    "ORDER BY verba\"\"\"\n",
    "cursor.execute(lista_verba)\n",
    "print(cursor.fetchall())"
   ]
  },
  {
   "cell_type": "markdown",
   "id": "5f378a10",
   "metadata": {},
   "source": [
    "### Lista do valor total de verba disponível para projetos na empresa:"
   ]
  },
  {
   "cell_type": "code",
   "execution_count": 31,
   "id": "8c8cd68b",
   "metadata": {},
   "outputs": [
    {
     "name": "stdout",
     "output_type": "stream",
     "text": [
      "[(391000,)]\n"
     ]
    }
   ],
   "source": [
    "cursor.execute(\"\"\"SELECT SUM(verba)\n",
    "FROM projetos\"\"\")\n",
    "print(cursor.fetchall())"
   ]
  },
  {
   "cell_type": "markdown",
   "id": "6045a62f",
   "metadata": {},
   "source": [
    "### Lista de projetos por departamento, ordenados pelo nome do projeto:"
   ]
  },
  {
   "cell_type": "code",
   "execution_count": 22,
   "id": "8d246e50",
   "metadata": {},
   "outputs": [
    {
     "name": "stdout",
     "output_type": "stream",
     "text": [
      "[('Alpha', 'Gerencia Geral'), ('Beta', 'Comercial'), ('Gama', 'Produção'), ('Omega', 'Financeiro'), ('Sigma', 'Produção')]\n"
     ]
    }
   ],
   "source": [
    "lista_projetos_dep = \"\"\"SELECT projetos.nomeProjeto, departamentos.nomeDep\n",
    "FROM departamentos INNER JOIN projetos ON departamentos.codigo = projetos.codigoDepResponsavel\n",
    "ORDER BY nomeProjeto\"\"\"\n",
    "cursor.execute(lista_projetos_dep)\n",
    "print(cursor.fetchall())"
   ]
  },
  {
   "cell_type": "code",
   "execution_count": null,
   "id": "7a07d883",
   "metadata": {},
   "outputs": [],
   "source": []
  }
 ],
 "metadata": {
  "kernelspec": {
   "display_name": "Python 3 (ipykernel)",
   "language": "python",
   "name": "python3"
  },
  "language_info": {
   "codemirror_mode": {
    "name": "ipython",
    "version": 3
   },
   "file_extension": ".py",
   "mimetype": "text/x-python",
   "name": "python",
   "nbconvert_exporter": "python",
   "pygments_lexer": "ipython3",
   "version": "3.9.7"
  }
 },
 "nbformat": 4,
 "nbformat_minor": 5
}
