{
 "cells": [
  {
   "cell_type": "markdown",
   "id": "894cf061",
   "metadata": {},
   "source": [
    "# Atividade - Threads"
   ]
  },
  {
   "cell_type": "markdown",
   "id": "ded21a7e",
   "metadata": {},
   "source": [
    "### 1. Função que imprime a mensagem ''Processo 1\" seguindo as instruções:\n",
    " * A) Inicializar a função à partir de um objeto thread t1\n",
    " * B) Consultar se o objeto thread criado está ativo\n",
    " * C) Consultar o nome da thread ativa atualmente\n",
    " * D) Consultar o identificador de thread do thread atual\n",
    " * E) Consultar a quantidade de threads ativas atualmente\n",
    " * F) Retornar uma lista com todos os threads ativos atualmente"
   ]
  },
  {
   "cell_type": "code",
   "execution_count": 19,
   "id": "817d1673",
   "metadata": {},
   "outputs": [
    {
     "name": "stdout",
     "output_type": "stream",
     "text": [
      "Processo 1 - Execução 1\n",
      "Processo 1 - Execução 2\n",
      "Processo 1 - Execução 3\n",
      "Processo 1 - Execução 4\n",
      "Processo 1 - Execução 5\n",
      "Processo 1 - Execução 6\n",
      "Processo 1 - Execução 7\n",
      "Processo 1 - Execução 8\n",
      "Processo 1 - Execução 9\n",
      "Processo 1 - Execução 10\n"
     ]
    }
   ],
   "source": [
    "# A) Inicializar a função à partir de um objeto thread t1\n",
    "import threading\n",
    "from threading import Thread\n",
    "\n",
    "def proc1():\n",
    "    for i in range(1, 11):\n",
    "        print(f'Processo 1 - Execução {i}')\n",
    "        \n",
    "        \n",
    "t1 = Thread(target=proc1)\n",
    "t1.start()"
   ]
  },
  {
   "cell_type": "code",
   "execution_count": 8,
   "id": "7b68df2a",
   "metadata": {},
   "outputs": [
    {
     "name": "stdout",
     "output_type": "stream",
     "text": [
      "Objeto t1 esta ativo = False\n",
      "Processo 2: 4\n",
      "Processo 2: 5\n",
      "Processo 2: 6\n",
      "Processo 2: 7\n",
      "Processo 2: 8\n",
      "Processo 2: 9\n",
      "Processo 2: 10\n"
     ]
    }
   ],
   "source": [
    "# B) Consultar se o objeto thread criado está ativo\n",
    "print('Objeto t1 esta ativo =', t1.is_alive())"
   ]
  },
  {
   "cell_type": "code",
   "execution_count": 26,
   "id": "f685c7e9",
   "metadata": {},
   "outputs": [
    {
     "data": {
      "text/plain": [
       "<_MainThread(MainThread, started 15256)>"
      ]
     },
     "execution_count": 26,
     "metadata": {},
     "output_type": "execute_result"
    }
   ],
   "source": [
    "# C) Consultar o nome da thread ativa atualmente\n",
    "threading.currentThread()"
   ]
  },
  {
   "cell_type": "code",
   "execution_count": 27,
   "id": "c2a82bee",
   "metadata": {},
   "outputs": [
    {
     "data": {
      "text/plain": [
       "15256"
      ]
     },
     "execution_count": 27,
     "metadata": {},
     "output_type": "execute_result"
    }
   ],
   "source": [
    "# D) Consultar o identificador de thread do thread atual\n",
    "threading.get_ident( ) "
   ]
  },
  {
   "cell_type": "code",
   "execution_count": 28,
   "id": "6849db3d",
   "metadata": {},
   "outputs": [
    {
     "data": {
      "text/plain": [
       "6"
      ]
     },
     "execution_count": 28,
     "metadata": {},
     "output_type": "execute_result"
    }
   ],
   "source": [
    "# E) Consultar a quantidade de threads ativas atualmente\n",
    "threading.active_count()"
   ]
  },
  {
   "cell_type": "code",
   "execution_count": 30,
   "id": "08b564dc",
   "metadata": {},
   "outputs": [
    {
     "data": {
      "text/plain": [
       "[<_MainThread(MainThread, started 15256)>,\n",
       " <Thread(IOPub, started daemon 11856)>,\n",
       " <Heartbeat(Heartbeat, started daemon 12856)>,\n",
       " <ControlThread(Control, started daemon 9528)>,\n",
       " <HistorySavingThread(IPythonHistorySavingThread, started 5016)>,\n",
       " <ParentPollerWindows(Thread-4, started daemon 2308)>]"
      ]
     },
     "execution_count": 30,
     "metadata": {},
     "output_type": "execute_result"
    }
   ],
   "source": [
    "# F) Retornar uma lista com todos os threads ativos atualmente\n",
    "threading.enumerate( ) "
   ]
  },
  {
   "cell_type": "markdown",
   "id": "c3df6147",
   "metadata": {},
   "source": [
    "### 2. Funções, proc1 e proc2 que imprime a mensagem \"Processo 1\" e \"Processo 2\" seguindo as instruções:"
   ]
  },
  {
   "cell_type": "markdown",
   "id": "50d3c5f0",
   "metadata": {},
   "source": [
    "* A) Inicialização das funções à partir de um objeto Thread t1 e t2 respectivamente\n",
    "* B) Colsutar se os objetos criados estão ativos\n",
    "* C) Importar o módulo time e criar im delay de tempo em cada uma das funções, sendo sleep 5 e 30 segundoas em proc1 e proc2 respectivamente\n",
    "* D) Consultar rapidamente ( antes dos 30 segundos) se cada objeto thread está ativo e imprimir na tela"
   ]
  },
  {
   "cell_type": "code",
   "execution_count": 4,
   "id": "0b502111",
   "metadata": {
    "scrolled": true
   },
   "outputs": [
    {
     "name": "stdout",
     "output_type": "stream",
     "text": [
      "Processo 1: 1\n",
      "Processo 1: 2\n",
      "Processo 1: 3\n",
      "Processo 1: 4\n",
      "Processo 1: 5\n",
      "Processo 1: 6\n",
      "Processo 1: 7\n",
      "Processo 1: 8\n",
      "Processo 1: 9\n",
      "Processo 1: 10\n",
      "Processo 2: 1\n",
      "Processo 2: 2\n",
      "Processo 2: 3\n",
      "Processo 2: 4\n",
      "Processo 2: 5\n",
      "Processo 2: 6\n",
      "Processo 2: 7\n",
      "Processo 2: 8\n",
      "Processo 2: 9\n",
      "Processo 2: 10\n"
     ]
    }
   ],
   "source": [
    "# A) Inicialização das funções à partir de um objeto Thread t1 e t2 respectivamente\n",
    "from threading import Thread\n",
    "\n",
    "def proc1():\n",
    "    for x in range(1,11):\n",
    "        print(\"Processo 1:\", x )\n",
    "\n",
    "def proc2():\n",
    "    for x in range(1,11):\n",
    "        print(\"Processo 2:\", x)\n",
    "t1 = Thread(target=proc1)\n",
    "t1.start()\n",
    "t2 = Thread(target=proc2)\n",
    "t2.start()"
   ]
  },
  {
   "cell_type": "code",
   "execution_count": 5,
   "id": "e3301436",
   "metadata": {},
   "outputs": [
    {
     "name": "stdout",
     "output_type": "stream",
     "text": [
      "Obejeto t1 esta ativo = False\n",
      "Obejeto t2 esta ativo = False\n"
     ]
    }
   ],
   "source": [
    "# B) Consultar se os objetos criados estão ativos\n",
    "print('Obejeto t1 esta ativo =', t1.is_alive())\n",
    "print('Obejeto t2 esta ativo =', t2.is_alive())"
   ]
  },
  {
   "cell_type": "code",
   "execution_count": 6,
   "id": "59a0616c",
   "metadata": {},
   "outputs": [
    {
     "name": "stdout",
     "output_type": "stream",
     "text": [
      "Processo 1: 1\n",
      "Processo 2: 1\n",
      "Processo 1: 2\n",
      "Processo 1: 3\n"
     ]
    }
   ],
   "source": [
    "# C) Importar o módulo time e criar im delay de tempo em cada uma das funções, sendo sleep 5 e 30 segundoas em proc1 e proc2 \n",
    "# respectivamente\n",
    "from threading import Thread\n",
    "import time\n",
    "\n",
    "def proc1():\n",
    "    for x in range(1,11):\n",
    "        print(\"Processo 1:\", x )\n",
    "        time.sleep(5)\n",
    "\n",
    "def proc2():\n",
    "    for x in range(1,11):\n",
    "        print(\"Processo 2:\", x)\n",
    "        time.sleep(30)\n",
    "        \n",
    "t1 = Thread(target=proc1)\n",
    "t1.start()\n",
    "t2 = Thread(target=proc2)\n",
    "t2.start()"
   ]
  },
  {
   "cell_type": "code",
   "execution_count": 7,
   "id": "11e3d4e3",
   "metadata": {},
   "outputs": [
    {
     "name": "stdout",
     "output_type": "stream",
     "text": [
      "Obejeto t1 esta ativo = True\n",
      "Obejeto t2 esta ativo = True\n",
      "Processo 1: 4\n",
      "Processo 1: 5\n",
      "Processo 1: 6\n",
      "Processo 2: 2\n",
      "Processo 1: 7\n",
      "Processo 1: 8\n",
      "Processo 1: 9\n",
      "Processo 1: 10\n",
      "Processo 2: 3\n"
     ]
    }
   ],
   "source": [
    "# D) Consultar se os objetos criados estão ativos\n",
    "print('Obejeto t1 esta ativo =', t1.is_alive())\n",
    "print('Obejeto t2 esta ativo =', t2.is_alive())"
   ]
  },
  {
   "cell_type": "markdown",
   "id": "59c4f672",
   "metadata": {},
   "source": [
    "### 3. Questões:\n",
    "* A) O qué é o problema do produtor consumidor e como podemos resolver com threads?\n",
    "* B) Indique mais um problema clássico da computação e como podemos resolve-los com threads explicando de forma detalhada\n"
   ]
  },
  {
   "cell_type": "code",
   "execution_count": null,
   "id": "2e9fe671",
   "metadata": {},
   "outputs": [],
   "source": [
    "# Resposta A) \n",
    "#   O problema de produtor Consumidor, consiste no desafio de sincronizar duas ou mais tarefas concorrentes que\n",
    "# tem acesso a um mesmo recurso do programa que esta em execução. O fato deste recurso ser compartilhado, implica na\n",
    "# possibilidade de conflito entre as threads que dispotuam o controle da CPU para acessar esse mesmo recurso.\n",
    "#   Para resolvermos este problema usando threads precisamos controlar o acesso ao Buffer, bloqueando o produtro enquanto o \n",
    "# buffer estiver cheio para reter a produção. De forma semelhante fazemos o mesmo com o Consumidor, quando ele se deparar com\n",
    "# a fila vazia deverá ser bloqueado, evitando o ócio da CPU."
   ]
  },
  {
   "cell_type": "code",
   "execution_count": null,
   "id": "5aaa7ee4",
   "metadata": {},
   "outputs": [],
   "source": [
    "# Resposta B)\n",
    "# Problema dos Leitores e Escritores: é o problema que tem a premissa semelhante ao Problema de produtor Consumidor, onde \n",
    "# processos estão competindo para acessar o mesmo recuros, ou estrutura de dados, do programa. Neste problema dividimos os \n",
    "# processos em duas classes: \n",
    "# Leitores -> Processo que acessa mas não altera a informação ou estrutura de dados.\n",
    "# Escritores -> è o processo que acessa a informação e faz alterações na estrutura de dados. Deverá ter acesso exlcusivo.\n",
    "# Neste problema não existe perigo em ter vários processos lendo as informações de uma estrutura de dados, por exemplo, mas \n",
    "# escrevendo ou fazendo qualquer alteração neste banco, deve ser feita sob a exclusão mútua para garantir a consistência dos\n",
    "# dados.\n",
    "# Para resolver este problema a sincronização a ser implementada deverá permitir qualquer número de leitores consultando esta\n",
    "# estrutura de dados simultaneamente., porém qualquer processo Escritor que for ser alterado deverá garantir acesso exlcusivo \n",
    "# ao mesmo. Em pesquisa achei a seguinte solução:\n",
    "# É dada prioridade aos Leitores. Utilizando duas variáveis semáforas, e uma variável para fazer a contagem de processos \n",
    "# leitores ativos. No caso, o primeiro leitor bloqueia o progresso dos Escritores que chegam após ele, através do semáforo. \n",
    "# enquanto permanecerem Leitores ativos, os Escritores ficarão bloqueados.\n"
   ]
  },
  {
   "cell_type": "markdown",
   "id": "a46b7984",
   "metadata": {},
   "source": [
    "### 4. Em relação aos objetos em Threads, segue:"
   ]
  },
  {
   "cell_type": "markdown",
   "id": "be78dfbb",
   "metadata": {},
   "source": [
    "**OBJETO**------>**DESCRIÇÃO**------>**COMANDO DE CRIAÇÃO**"
   ]
  },
  {
   "cell_type": "code",
   "execution_count": null,
   "id": "5ba6d033",
   "metadata": {},
   "outputs": [],
   "source": [
    "# OBJETO: Thread\n",
    "\n",
    "# DESCRIÇÃO: Objeto que representa um único thread de execução.\n",
    "\n",
    "# COMANDO DE CRIAÇÃO: \n",
    "import threading\n",
    "\n",
    "t1 = Threads(target=obj.Function_name).start()"
   ]
  },
  {
   "cell_type": "code",
   "execution_count": 9,
   "id": "f79787e4",
   "metadata": {},
   "outputs": [
    {
     "name": "stdout",
     "output_type": "stream",
     "text": [
      "3\n"
     ]
    }
   ],
   "source": [
    "# OBJETO: Lock\n",
    "\n",
    "# DESCRIÇÃO: Objeto de bloqueio Primitivo.\n",
    "\n",
    "# COMANDO DE CRIAÇÃO:\n",
    "\n",
    "variavel_Lock = threading.Lock() "
   ]
  },
  {
   "cell_type": "code",
   "execution_count": null,
   "id": "88cba217",
   "metadata": {},
   "outputs": [],
   "source": [
    "# OBJETO: RLock\n",
    "\n",
    "# DESCRIÇÃO: O objeto de bloqueio RLock fornece capacidade para um único thread (re) adquirir um bloqueio já mantido \n",
    "# (bloqueio recursivo).\n",
    "\n",
    "# COMANDO DE CRIAÇÃO:\n",
    "\n",
    "variavel_Rlock = threading.RLock() "
   ]
  },
  {
   "cell_type": "code",
   "execution_count": null,
   "id": "6b22637d",
   "metadata": {},
   "outputs": [],
   "source": [
    "# OBJETO: Condition\n",
    "\n",
    "# DESCRIÇÃO: Faz com que um thread espere até que certa condição seja satisfeita por outro thread.\n",
    "\n",
    "# COMANDO DE CRIAÇÃO:\n",
    "\n",
    "condicao_objeto = threading.condition()"
   ]
  },
  {
   "cell_type": "code",
   "execution_count": null,
   "id": "9163490f",
   "metadata": {},
   "outputs": [],
   "source": [
    "# OBJETO: Event\n",
    "\n",
    "# DESCRIÇÃO: É uma versão mais geral  das variáveis de condição, em que várias threads podem ser feitas para aguardar\n",
    "# a ocorrência de algum evento e todas as threadsem espera só serão ativas quando este evento ocorrer.\n",
    "\n",
    "# COMANDO DE CRIAÇÃO:\n",
    "\n",
    "evento_objeto = threading.Event()"
   ]
  },
  {
   "cell_type": "code",
   "execution_count": null,
   "id": "c89e1068",
   "metadata": {},
   "outputs": [],
   "source": [
    "# OBJETO: Semaphore\n",
    "\n",
    "# DESCRIÇÃO: Fornece um 'contador' de recursos finitos compartilhados entre blocos de threads quando nenhum está disponível.\n",
    "\n",
    "# COMANDO DE CRIAÇÃO:\n",
    "\n",
    "objeto_nome.Semaphore() # padrão da variável de contagem 1\n",
    "# ou\n",
    "objeto_nome.Semaphore(n) # objeto Semaphore pode ser acessado por n Threads por vez. \n",
    "                         # Os Threads restantes devem esperar até liberar o semáforo."
   ]
  },
  {
   "cell_type": "code",
   "execution_count": null,
   "id": "09901ec2",
   "metadata": {},
   "outputs": [],
   "source": [
    "# OBJETO: BoundedSemaphore\n",
    "\n",
    "# DESCRIÇÃO: Semelhante ao 'Semaphore', mas garante que nunca exceda seu valor inicial.\n",
    "\n",
    "# COMANDO DE CRIAÇÃO:\n",
    "\n",
    "objeto_nome.BoundedSemaphore(n)"
   ]
  },
  {
   "cell_type": "code",
   "execution_count": null,
   "id": "466f343d",
   "metadata": {},
   "outputs": [],
   "source": [
    "# OBJETO: Timer\n",
    "\n",
    "# DESCRIÇÃO: Semelhante ao Thread, exceto que ele espera por um período de tempo especificado antes de ser executado.\n",
    "\n",
    "# COMANDO DE CRIAÇÃO:\n",
    "\n",
    "threading.Timer(intervalo, função, args = None, kwargs = None)"
   ]
  },
  {
   "cell_type": "code",
   "execution_count": null,
   "id": "fe460f97",
   "metadata": {},
   "outputs": [],
   "source": [
    "# OBJETO: Barrier\n",
    "\n",
    "# DESCRIÇÃO: Cria uma 'barreira' na qual um número especificado de threads deve chegar antes que todos tenham permissão\n",
    "# para continuar.\n",
    "\n",
    "# COMANDO DE CRIAÇÃO:\n",
    "\n",
    "barreira = threading.Barrier (number_of_threads, action = None, timeout = None)"
   ]
  }
 ],
 "metadata": {
  "kernelspec": {
   "display_name": "Python 3 (ipykernel)",
   "language": "python",
   "name": "python3"
  },
  "language_info": {
   "codemirror_mode": {
    "name": "ipython",
    "version": 3
   },
   "file_extension": ".py",
   "mimetype": "text/x-python",
   "name": "python",
   "nbconvert_exporter": "python",
   "pygments_lexer": "ipython3",
   "version": "3.9.12"
  }
 },
 "nbformat": 4,
 "nbformat_minor": 5
}
