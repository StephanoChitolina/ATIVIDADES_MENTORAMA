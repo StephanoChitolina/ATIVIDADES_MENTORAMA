{
 "cells": [
  {
   "cell_type": "markdown",
   "id": "d2dd5e1f",
   "metadata": {},
   "source": [
    "# Atividade - Data e Tempo"
   ]
  },
  {
   "cell_type": "markdown",
   "id": "52216b93",
   "metadata": {},
   "source": [
    "### 1. Scripts para mostrar os diversos formatos de tempo:"
   ]
  },
  {
   "cell_type": "code",
   "execution_count": 1,
   "id": "ac32d5e6",
   "metadata": {},
   "outputs": [
    {
     "name": "stdout",
     "output_type": "stream",
     "text": [
      "time.struct_time(tm_year=1970, tm_mon=1, tm_mday=1, tm_hour=0, tm_min=0, tm_sec=0, tm_wday=3, tm_yday=1, tm_isdst=0)\n"
     ]
    }
   ],
   "source": [
    "# A) Impressão da Época padrão:\n",
    "from time import gmtime\n",
    "e_padrao = gmtime(0)\n",
    "print(e_padrao)"
   ]
  },
  {
   "cell_type": "code",
   "execution_count": 2,
   "id": "135a9e10",
   "metadata": {},
   "outputs": [
    {
     "name": "stdout",
     "output_type": "stream",
     "text": [
      "Os segundos passados desde a época padrão são: 1657748514.1464643\n"
     ]
    }
   ],
   "source": [
    "# B) Segundos que se passaram desde a época padrão:\n",
    "from time import time\n",
    "segundos = time()\n",
    "print(f'Os segundos passados desde a época padrão são: {segundos}')"
   ]
  },
  {
   "cell_type": "code",
   "execution_count": 3,
   "id": "ef0f34ae",
   "metadata": {},
   "outputs": [
    {
     "name": "stdout",
     "output_type": "stream",
     "text": [
      "Tempo atual: Wed Jul 13 18:47:31 2022\n"
     ]
    }
   ],
   "source": [
    "# C) Impressão dos dados de tempo atuais:\n",
    "from time import asctime\n",
    "tempo_atual = asctime()\n",
    "print(f'Tempo atual: {asctime()}')"
   ]
  },
  {
   "cell_type": "code",
   "execution_count": 11,
   "id": "0b763594",
   "metadata": {},
   "outputs": [
    {
     "name": "stdout",
     "output_type": "stream",
     "text": [
      "18 horas, 59 minutos e 11 segundos\n"
     ]
    }
   ],
   "source": [
    "# D) Criando objeto time.localtime() e imprimindo o valor de horas, minutos e segundos\n",
    "from time import localtime\n",
    "h_m_s = localtime()\n",
    "print(h_m_s[3], 'horas,', h_m_s[4], 'minutos e', h_m_s[5],'segundos')"
   ]
  },
  {
   "cell_type": "code",
   "execution_count": 13,
   "id": "8278e048",
   "metadata": {},
   "outputs": [
    {
     "name": "stdout",
     "output_type": "stream",
     "text": [
      "Não estamos no horário de verão\n"
     ]
    }
   ],
   "source": [
    "# E) Impressão se no momento atual é horário de verão ou não:\n",
    "from time import localtime\n",
    "e_hora_verao = localtime()\n",
    "if e_hora_verao[8] == 0:\n",
    "    print('Não estamos no horário de verão')\n",
    "else:\n",
    "    print('Estamos no horário de verão')"
   ]
  },
  {
   "cell_type": "markdown",
   "id": "d24b5e55",
   "metadata": {},
   "source": [
    "### 2. Programa que faz a impressão da string \"Olá, mundo!\" 5 vezes, com intervalod de 3 segundos entre cada impressão:"
   ]
  },
  {
   "cell_type": "code",
   "execution_count": 15,
   "id": "826ba2e5",
   "metadata": {},
   "outputs": [
    {
     "name": "stdout",
     "output_type": "stream",
     "text": [
      "Olá, mundo!\n",
      "Olá, mundo!\n",
      "Olá, mundo!\n",
      "Olá, mundo!\n",
      "Olá, mundo!\n"
     ]
    }
   ],
   "source": [
    "from time import sleep\n",
    "string = \"Olá, mundo!\"\n",
    "for vez in range(5):\n",
    "    sleep(3)\n",
    "    print(string)"
   ]
  },
  {
   "cell_type": "markdown",
   "id": "06547723",
   "metadata": {},
   "source": [
    "### 3. Adaptando o programa acima para calcular o tempo de processamento do script. Utilizando time.time() e perf_counter() para apresentar esta variação de tempo:"
   ]
  },
  {
   "cell_type": "code",
   "execution_count": 18,
   "id": "cbd0c9cf",
   "metadata": {},
   "outputs": [
    {
     "name": "stdout",
     "output_type": "stream",
     "text": [
      "Olá, mundo!\n",
      "Olá, mundo!\n",
      "Olá, mundo!\n",
      "Olá, mundo!\n",
      "Olá, mundo!\n",
      "O tempo de processamento total deste script é:  15.05571699142456 segundos\n"
     ]
    }
   ],
   "source": [
    "# Utilizando o time.time()\n",
    "from time import time, sleep\n",
    "\n",
    "inicio = time()\n",
    "\n",
    "def ola_mundo():\n",
    "    string = \"Olá, mundo!\"\n",
    "    for vez in range(5):\n",
    "        sleep(3)\n",
    "        print(string)\n",
    "\n",
    "\n",
    "ola_mundo()        \n",
    "final = time()\n",
    "print(\"O tempo de processamento total deste script é: \", final - inicio, \"segundos\")"
   ]
  },
  {
   "cell_type": "code",
   "execution_count": 19,
   "id": "73dad8aa",
   "metadata": {},
   "outputs": [
    {
     "name": "stdout",
     "output_type": "stream",
     "text": [
      "Olá, mundo!\n",
      "Olá, mundo!\n",
      "Olá, mundo!\n",
      "Olá, mundo!\n",
      "Olá, mundo!\n",
      "O tempo de processamento total deste script é:  15.054046299999754 segundos\n"
     ]
    }
   ],
   "source": [
    "# Utilizando o time.perf_counter\n",
    "from time import perf_counter \n",
    "\n",
    "inicio = perf_counter()\n",
    "\n",
    "def ola_mundo():\n",
    "    string = \"Olá, mundo!\"\n",
    "    for vez in range(5):\n",
    "        sleep(3)\n",
    "        print(string)\n",
    "\n",
    "\n",
    "ola_mundo()        \n",
    "final = perf_counter()\n",
    "print(\"O tempo de processamento total deste script é: \", final - inicio, \"segundos\")"
   ]
  },
  {
   "cell_type": "markdown",
   "id": "126beae1",
   "metadata": {},
   "source": [
    "### 4. Programa que obtém uma lista de datas no intervalo entre duas datas. Considerando o passo de 1 dia, reproduzindo o intervalo das datas entre 16/10/87 e 25/10/87:"
   ]
  },
  {
   "cell_type": "code",
   "execution_count": 33,
   "id": "dbae1e1c",
   "metadata": {},
   "outputs": [
    {
     "name": "stdout",
     "output_type": "stream",
     "text": [
      "Entre o período de 16/10/87 a 25/10/87 temos as respectivas datas:\n",
      "2022-07-13\n",
      "2022-07-14\n",
      "2022-07-15\n",
      "2022-07-16\n",
      "2022-07-17\n"
     ]
    }
   ],
   "source": [
    "import datetime\n",
    "   \n",
    "passo = datetime.timedelta(days=1)\n",
    "\n",
    "data_inicial = datetime.date.today()\n",
    "data_final = start_date + 5 * passo\n",
    "\n",
    "print('Entre o período de 16/10/87 a 25/10/87 temos as respectivas datas:')\n",
    "for data in range((data_final - data_inicial).days):\n",
    "    print(data_inicial + data * passo)"
   ]
  },
  {
   "cell_type": "markdown",
   "id": "17c03dd3",
   "metadata": {},
   "source": [
    "### 5. Script que mostram os diversos formatos de data e tempo comforme o seguinte:"
   ]
  },
  {
   "cell_type": "code",
   "execution_count": 39,
   "id": "735095b7",
   "metadata": {},
   "outputs": [
    {
     "name": "stdout",
     "output_type": "stream",
     "text": [
      "A data e hora atual é, respectivamente: 2022-07-13 19:51:56.103986\n"
     ]
    }
   ],
   "source": [
    "import datetime\n",
    "\n",
    "# A) Data e hora atual:\n",
    "data_hora_atual = datetime.datetime.now()\n",
    "\n",
    "print('A data e hora atual é, respectivamente:', data_hora_atual)"
   ]
  },
  {
   "cell_type": "code",
   "execution_count": 76,
   "id": "bb951e0e",
   "metadata": {},
   "outputs": [
    {
     "name": "stdout",
     "output_type": "stream",
     "text": [
      "O ano atual é: 2022\n"
     ]
    }
   ],
   "source": [
    "# B) Ano atual:\n",
    "data = datetime.datetime.now()\n",
    "\n",
    "print('O ano atual é:', data.year)"
   ]
  },
  {
   "cell_type": "code",
   "execution_count": 65,
   "id": "23843af0",
   "metadata": {},
   "outputs": [
    {
     "name": "stdout",
     "output_type": "stream",
     "text": [
      "O mês atual é: 7\n"
     ]
    }
   ],
   "source": [
    "# C) Mês atual:\n",
    "data = datetime.datetime.now()\n",
    "\n",
    "print('O mês atual é:', data.month)"
   ]
  },
  {
   "cell_type": "code",
   "execution_count": 62,
   "id": "52a45725",
   "metadata": {},
   "outputs": [
    {
     "name": "stdout",
     "output_type": "stream",
     "text": [
      "A semana atual do anoa é: 28\n"
     ]
    }
   ],
   "source": [
    "# D) Número da semana do ano:\n",
    "semana_ano = datetime.datetime.now().isocalendar().week\n",
    "\n",
    "print('A semana atual do ano é:', semana_ano)"
   ]
  },
  {
   "cell_type": "code",
   "execution_count": 52,
   "id": "24651309",
   "metadata": {},
   "outputs": [
    {
     "name": "stdout",
     "output_type": "stream",
     "text": [
      "O dia atual é: quarta-feira\n"
     ]
    }
   ],
   "source": [
    "# E) Dia atual da semana:\n",
    "dias_semana = ['segunda-feira', 'terça-feira', 'quarta-feira', 'quinta-feira', 'sexta-feira', 'sábado', 'domingo']\n",
    "dia_atual = datetime.date.today()\n",
    "\n",
    "print('O dia atual é:', dias_semana[dia_atual.weekday()])"
   ]
  },
  {
   "cell_type": "code",
   "execution_count": 68,
   "id": "387b7124",
   "metadata": {},
   "outputs": [
    {
     "name": "stdout",
     "output_type": "stream",
     "text": [
      "O dia atual do ano é: 194\n"
     ]
    }
   ],
   "source": [
    "# F) Dia do ano:\n",
    "dia_do_ano = datetime.datetime.now().timetuple().tm_yday\n",
    "\n",
    "print('O dia atual do ano é:', dia_do_ano)"
   ]
  },
  {
   "cell_type": "code",
   "execution_count": 53,
   "id": "77a96985",
   "metadata": {},
   "outputs": [
    {
     "name": "stdout",
     "output_type": "stream",
     "text": [
      "O dia atual do mês é: 13\n"
     ]
    }
   ],
   "source": [
    "# G) Dia do mês:\n",
    "dia_do_mes = datetime.datetime.now()\n",
    "\n",
    "print('O dia atual do mês é:', dia_do_mes.day)"
   ]
  },
  {
   "cell_type": "code",
   "execution_count": 54,
   "id": "51a6f672",
   "metadata": {},
   "outputs": [
    {
     "name": "stdout",
     "output_type": "stream",
     "text": [
      "O dia atual é: 3\n"
     ]
    }
   ],
   "source": [
    "# H) Dia da semana:\n",
    "dia_da_semana = datetime.date.today()\n",
    "\n",
    "print('O dia atual é:', dia_atual.isoweekday())"
   ]
  },
  {
   "cell_type": "markdown",
   "id": "deec14db",
   "metadata": {},
   "source": [
    "### 6. Programa capaz de converter uma string em data e hora:"
   ]
  },
  {
   "cell_type": "code",
   "execution_count": 77,
   "id": "8aa239f3",
   "metadata": {},
   "outputs": [
    {
     "name": "stdout",
     "output_type": "stream",
     "text": [
      "2021-01-01 13:53:00\n"
     ]
    }
   ],
   "source": [
    "# String de exemplo: 01 de Janeiro de 2021 13h53\n",
    "import datetime\n",
    "\n",
    "data = datetime.datetime.strptime('2021-01-01 13:53', '%Y-%m-%d %H:%M')\n",
    "print(data)"
   ]
  },
  {
   "cell_type": "markdown",
   "id": "86f1542c",
   "metadata": {},
   "source": [
    "### 7. Programa que subtrai 8 dias da data atual:"
   ]
  },
  {
   "cell_type": "code",
   "execution_count": 75,
   "id": "2edfde5c",
   "metadata": {},
   "outputs": [
    {
     "name": "stdout",
     "output_type": "stream",
     "text": [
      "Subtraindo 8 dias da data 2021/01/25 obtemos a data: 2021-01-17 00:00:00\n"
     ]
    }
   ],
   "source": [
    "# data atual usada como exemplo 25/01/2021\n",
    "import datetime\n",
    "\n",
    "data_atual = datetime.datetime(2021, 1, 25)\n",
    "data_dif = datetime.timedelta(days = 8)\n",
    "\n",
    "resultado = data_atual - data_dif\n",
    "\n",
    "print('Subtraindo 8 dias da data 2021/01/25 obtemos a data:', resultado)"
   ]
  },
  {
   "cell_type": "markdown",
   "id": "4b9b43a7",
   "metadata": {},
   "source": [
    "### 8. Programa que calcula o número de dias entre dois datetimes. Sendo a diferença entre os dias igual a 10:"
   ]
  },
  {
   "cell_type": "code",
   "execution_count": 60,
   "id": "fa516864",
   "metadata": {},
   "outputs": [
    {
     "name": "stdout",
     "output_type": "stream",
     "text": [
      "A diferença entre o dia 1 e o dia 2 é: 10 days, 0:00:00\n"
     ]
    }
   ],
   "source": [
    "import datetime\n",
    "\n",
    "d1 = datetime.timedelta(days = 10)\n",
    "d2 = datetime.timedelta(days = 20)\n",
    "d_dif = d2-d1\n",
    "print('A diferença entre o dia 1 e o dia 2 é:', d_dif)"
   ]
  },
  {
   "cell_type": "markdown",
   "id": "5327edbf",
   "metadata": {},
   "source": [
    "### 9. Programa que calcula a diferença, em dias, entre antes de ontem e depois de amanhã:"
   ]
  },
  {
   "cell_type": "code",
   "execution_count": 79,
   "id": "339f1716",
   "metadata": {},
   "outputs": [
    {
     "name": "stdout",
     "output_type": "stream",
     "text": [
      "Hoje: 2022-07-13\n",
      "Antes de ontem: 2022-07-11\n",
      "depois de amanhã: 2022-07-15\n",
      "O intervalo entre antes de ontem e depois de amanhã é: 4 days, 0:00:00\n"
     ]
    }
   ],
   "source": [
    "import datetime\n",
    "\n",
    "hoje = datetime.date.today()\n",
    "print('Hoje:', hoje)\n",
    "\n",
    "antes_de_ontem = hoje - datetime.timedelta(days=2)\n",
    "print('Antes de ontem:', antes_de_ontem)\n",
    "\n",
    "depois_de_amanha = hoje + datetime.timedelta(days=2)\n",
    "print('depois de amanhã:', depois_de_amanha)\n",
    "\n",
    "print('O intervalo entre antes de ontem e depois de amanhã é:', depois_de_amanha - antes_de_ontem)"
   ]
  }
 ],
 "metadata": {
  "kernelspec": {
   "display_name": "Python 3 (ipykernel)",
   "language": "python",
   "name": "python3"
  },
  "language_info": {
   "codemirror_mode": {
    "name": "ipython",
    "version": 3
   },
   "file_extension": ".py",
   "mimetype": "text/x-python",
   "name": "python",
   "nbconvert_exporter": "python",
   "pygments_lexer": "ipython3",
   "version": "3.9.12"
  }
 },
 "nbformat": 4,
 "nbformat_minor": 5
}
